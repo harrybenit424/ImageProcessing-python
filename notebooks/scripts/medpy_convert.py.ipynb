{
 "cells": [
  {
   "cell_type": "markdown",
   "metadata": {},
   "source": [
    "A simple convenience script to convert between image formats. Let's look at our image first."
   ]
  },
  {
   "cell_type": "markdown",
   "metadata": {},
   "source": [
    "![A 2D FLAIR image of a brain.](images/flair.png)"
   ]
  },
  {
   "cell_type": "markdown",
   "metadata": {},
   "source": [
    "With medpy_info.py we can look at it's details."
   ]
  },
  {
   "cell_type": "code",
   "execution_count": 1,
   "metadata": {},
   "outputs": [
    {
     "name": "stdout",
     "output_type": "stream",
     "text": [
      "\n",
      "Informations obtained from image header:\n",
      "header type=<class 'nibabel.nifti1.Nifti1Image'>\n",
      "voxel spacing=(1.0, 1.0)\n",
      "offset=(-0.0, -0.0)\n",
      "\n",
      "Informations obtained from image array:\n",
      "datatype=float32,dimensions=2,shape=(181, 217)\n",
      "first and last element: 0.0 / 0.0\n"
     ]
    }
   ],
   "source": [
    "medpy_info.py resources/flair.nii.gz"
   ]
  },
  {
   "cell_type": "markdown",
   "metadata": {},
   "source": [
    "No we convert it to another format."
   ]
  },
  {
   "cell_type": "code",
   "execution_count": 2,
   "metadata": {
    "collapsed": true
   },
   "outputs": [],
   "source": [
    "medpy_convert.py resources/flair.nii.gz output/flair.hdr"
   ]
  },
  {
   "cell_type": "markdown",
   "metadata": {},
   "source": [
    "Note: if you get an error that the file already exists, you can force an overwrite by appending -f to the command. This is true for most *medpy* scripts."
   ]
  },
  {
   "cell_type": "markdown",
   "metadata": {},
   "source": [
    "**HDR** is an Analyze 7.5 format which is composed by a header file (.hdr) and a data file (.img)."
   ]
  },
  {
   "cell_type": "code",
   "execution_count": 3,
   "metadata": {},
   "outputs": [
    {
     "name": "stdout",
     "output_type": "stream",
     "text": [
      "output/flair.hdr  output/flair.img\n"
     ]
    }
   ],
   "source": [
    "ls output/flair.*"
   ]
  },
  {
   "cell_type": "markdown",
   "metadata": {},
   "source": [
    "Checking the newly created image (we just supply the header file), we see that nothing changes except the format."
   ]
  },
  {
   "cell_type": "code",
   "execution_count": 4,
   "metadata": {},
   "outputs": [
    {
     "name": "stdout",
     "output_type": "stream",
     "text": [
      "\n",
      "Informations obtained from image header:\n",
      "header type=<class 'nibabel.nifti1.Nifti1Pair'>\n",
      "voxel spacing=(1.0, 1.0)\n",
      "offset=(-0.0, -0.0)\n",
      "\n",
      "Informations obtained from image array:\n",
      "datatype=float32,dimensions=2,shape=(181, 217)\n",
      "first and last element: 0.0 / 0.0\n"
     ]
    }
   ],
   "source": [
    "medpy_info.py output/flair.hdr"
   ]
  },
  {
   "cell_type": "code",
   "execution_count": null,
   "metadata": {
    "collapsed": true
   },
   "outputs": [],
   "source": []
  }
 ],
 "metadata": {
  "kernelspec": {
   "display_name": "Bash",
   "language": "bash",
   "name": "bash"
  },
  "language_info": {
   "codemirror_mode": "shell",
   "file_extension": ".sh",
   "mimetype": "text/x-sh",
   "name": "bash"
  }
 },
 "nbformat": 4,
 "nbformat_minor": 2
}
