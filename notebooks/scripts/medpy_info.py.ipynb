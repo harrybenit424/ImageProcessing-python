{
 "cells": [
  {
   "cell_type": "markdown",
   "metadata": {},
   "source": [
    "Simple script to display an image's metadata."
   ]
  },
  {
   "cell_type": "code",
   "execution_count": 1,
   "metadata": {},
   "outputs": [
    {
     "name": "stdout",
     "output_type": "stream",
     "text": [
      "\n",
      "Informations obtained from image header:\n",
      "header type=<class 'nibabel.nifti1.Nifti1Image'>\n",
      "voxel spacing=(1.0, 1.0)\n",
      "offset=(-0.0, -0.0)\n",
      "\n",
      "Informations obtained from image array:\n",
      "datatype=float32,dimensions=2,shape=(181, 217)\n",
      "first and last element: 0.0 / 0.0\n"
     ]
    }
   ],
   "source": [
    "medpy_info.py resources/flair.nii.gz"
   ]
  },
  {
   "cell_type": "markdown",
   "metadata": {},
   "source": [
    "That's it. Here's the image itself for you to know what you are looking at.\n",
    "![A 2D FLAIR brain scan](images/flair.png)"
   ]
  },
  {
   "cell_type": "code",
   "execution_count": null,
   "metadata": {
    "collapsed": true
   },
   "outputs": [],
   "source": []
  }
 ],
 "metadata": {
  "kernelspec": {
   "display_name": "Bash",
   "language": "bash",
   "name": "bash"
  },
  "language_info": {
   "codemirror_mode": "shell",
   "file_extension": ".sh",
   "mimetype": "text/x-sh",
   "name": "bash"
  }
 },
 "nbformat": 4,
 "nbformat_minor": 2
}
