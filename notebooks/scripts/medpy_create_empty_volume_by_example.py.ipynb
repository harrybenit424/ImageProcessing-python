{
 "cells": [
  {
   "cell_type": "markdown",
   "metadata": {},
   "source": [
    "Simple script to create an empty volume by taking the metadata from an example image."
   ]
  },
  {
   "cell_type": "code",
   "execution_count": 1,
   "metadata": {
    "collapsed": true
   },
   "outputs": [],
   "source": [
    "medpy_create_empty_volume_by_example.py resources/flair.nii.gz output/empty.nii.gz"
   ]
  },
  {
   "cell_type": "markdown",
   "metadata": {},
   "source": [
    "Let's compare the metadata."
   ]
  },
  {
   "cell_type": "code",
   "execution_count": 2,
   "metadata": {},
   "outputs": [
    {
     "name": "stdout",
     "output_type": "stream",
     "text": [
      "\n",
      "Informations obtained from image header:\n",
      "header type=<class 'nibabel.nifti1.Nifti1Image'>\n",
      "voxel spacing=(1.0, 1.0)\n",
      "offset=(-0.0, -0.0)\n",
      "\n",
      "Informations obtained from image array:\n",
      "datatype=float32,dimensions=2,shape=(181, 217)\n",
      "first and last element: 0.0 / 0.0\n"
     ]
    }
   ],
   "source": [
    "medpy_info.py resources/flair.nii.gz"
   ]
  },
  {
   "cell_type": "code",
   "execution_count": 3,
   "metadata": {},
   "outputs": [
    {
     "name": "stdout",
     "output_type": "stream",
     "text": [
      "\n",
      "Informations obtained from image header:\n",
      "header type=<class 'nibabel.nifti1.Nifti1Image'>\n",
      "voxel spacing=(1.0, 1.0)\n",
      "offset=(-0.0, -0.0)\n",
      "\n",
      "Informations obtained from image array:\n",
      "datatype=float32,dimensions=2,shape=(181, 217)\n",
      "first and last element: 0.0 / 0.0\n"
     ]
    }
   ],
   "source": [
    "medpy_info.py output/empty.nii.gz"
   ]
  },
  {
   "cell_type": "markdown",
   "metadata": {},
   "source": [
    "But they do differ in every (non-zero) voxel."
   ]
  },
  {
   "cell_type": "code",
   "execution_count": 4,
   "metadata": {},
   "outputs": [
    {
     "name": "stdout",
     "output_type": "stream",
     "text": [
      "Voxel differ: 16453 of 39277 total voxels\n",
      "Max difference: 51866.8203125\n"
     ]
    }
   ],
   "source": [
    "medpy_diff.py resources/flair.nii.gz output/empty.nii.gz"
   ]
  },
  {
   "cell_type": "code",
   "execution_count": null,
   "metadata": {
    "collapsed": true
   },
   "outputs": [],
   "source": []
  }
 ],
 "metadata": {
  "kernelspec": {
   "display_name": "Bash",
   "language": "bash",
   "name": "bash"
  },
  "language_info": {
   "codemirror_mode": "shell",
   "file_extension": ".sh",
   "mimetype": "text/x-sh",
   "name": "bash"
  }
 },
 "nbformat": 4,
 "nbformat_minor": 2
}
